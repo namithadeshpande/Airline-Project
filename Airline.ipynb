{
  "cells": [
    {
      "cell_type": "code",
      "execution_count": 1,
      "id": "6e045176",
      "metadata": {
        "id": "6e045176"
      },
      "outputs": [],
      "source": [
        "import pandas as pd\n",
        "import re\n",
        "from pathlib import Path"
      ]
    },
    {
      "cell_type": "code",
      "source": [
        "from google.colab import drive\n",
        "drive.mount('/content/drive', force_remount=True)"
      ],
      "metadata": {
        "colab": {
          "base_uri": "https://localhost:8080/"
        },
        "id": "2ZLMV9bUFNyl",
        "outputId": "7dd9d003-706c-44e5-96c9-da99e4a2d373"
      },
      "id": "2ZLMV9bUFNyl",
      "execution_count": 2,
      "outputs": [
        {
          "output_type": "stream",
          "name": "stdout",
          "text": [
            "Mounted at /content/drive\n"
          ]
        }
      ]
    },
    {
      "cell_type": "code",
      "source": [
        "data_folder = Path(\"/content/drive/MyDrive/Colab Notebooks/Projects/Airline/Data\")"
      ],
      "metadata": {
        "id": "tpdilpBdFqFi"
      },
      "id": "tpdilpBdFqFi",
      "execution_count": 3,
      "outputs": []
    },
    {
      "cell_type": "code",
      "execution_count": 4,
      "id": "8bf701e6",
      "metadata": {
        "id": "8bf701e6"
      },
      "outputs": [],
      "source": [
        "aa_otp = pd.read_csv(data_folder/\"AA_OTP.csv\")\n",
        "alaska_otp = pd.read_csv(data_folder/\"Alaska_OTP.csv\")\n",
        "delta_otp = pd.read_csv(data_folder/\"Delta_OTP.csv\")\n",
        "sw_otp = pd.read_csv(data_folder/\"SouthWest_OTP.csv\")\n",
        "united_otp = pd.read_csv(data_folder/\"United_OTP.csv\")"
      ]
    },
    {
      "cell_type": "code",
      "execution_count": 5,
      "id": "e98765dd",
      "metadata": {
        "colab": {
          "base_uri": "https://localhost:8080/"
        },
        "id": "e98765dd",
        "outputId": "08c5b2c8-26a1-4324-d83b-ef6876dc875c"
      },
      "outputs": [
        {
          "output_type": "stream",
          "name": "stdout",
          "text": [
            "year                    0\n",
            " month                  0\n",
            "carrier                 0\n",
            "carrier_name            0\n",
            "airport                 0\n",
            "airport_name            0\n",
            "arr_flights             4\n",
            "arr_del15              11\n",
            "carrier_ct              4\n",
            " weather_ct             4\n",
            "nas_ct                  4\n",
            "security_ct             4\n",
            "late_aircraft_ct        4\n",
            "arr_cancelled           4\n",
            "arr_diverted            4\n",
            " arr_delay              4\n",
            " carrier_delay          4\n",
            "weather_delay           4\n",
            "nas_delay               4\n",
            "security_delay          4\n",
            "late_aircraft_delay     4\n",
            "dtype: int64\n",
            "year                   0\n",
            " month                 0\n",
            "carrier                0\n",
            "carrier_name           0\n",
            "airport                0\n",
            "airport_name           0\n",
            "arr_flights            1\n",
            "arr_del15              2\n",
            "carrier_ct             1\n",
            " weather_ct            1\n",
            "nas_ct                 1\n",
            "security_ct            1\n",
            "late_aircraft_ct       1\n",
            "arr_cancelled          1\n",
            "arr_diverted           1\n",
            " arr_delay             1\n",
            " carrier_delay         1\n",
            "weather_delay          1\n",
            "nas_delay              1\n",
            "security_delay         1\n",
            "late_aircraft_delay    1\n",
            "dtype: int64\n",
            "year                    0\n",
            " month                  0\n",
            "carrier                 0\n",
            "carrier_name            0\n",
            "airport                 0\n",
            "airport_name            0\n",
            "arr_flights            53\n",
            "arr_del15              63\n",
            "carrier_ct             53\n",
            " weather_ct            53\n",
            "nas_ct                 53\n",
            "security_ct            53\n",
            "late_aircraft_ct       53\n",
            "arr_cancelled          53\n",
            "arr_diverted           53\n",
            " arr_delay             53\n",
            " carrier_delay         53\n",
            "weather_delay          53\n",
            "nas_delay              53\n",
            "security_delay         53\n",
            "late_aircraft_delay    53\n",
            "dtype: int64\n",
            "year                   0\n",
            " month                 0\n",
            "carrier                0\n",
            "carrier_name           0\n",
            "airport                0\n",
            "airport_name           0\n",
            "arr_flights            0\n",
            "arr_del15              0\n",
            "carrier_ct             0\n",
            " weather_ct            0\n",
            "nas_ct                 0\n",
            "security_ct            0\n",
            "late_aircraft_ct       0\n",
            "arr_cancelled          0\n",
            "arr_diverted           0\n",
            " arr_delay             0\n",
            " carrier_delay         0\n",
            "weather_delay          0\n",
            "nas_delay              0\n",
            "security_delay         0\n",
            "late_aircraft_delay    0\n",
            "dtype: int64\n",
            "year                    0\n",
            " month                  0\n",
            "carrier                 0\n",
            "carrier_name            0\n",
            "airport                 0\n",
            "airport_name            0\n",
            "arr_flights            22\n",
            "arr_del15              35\n",
            "carrier_ct             22\n",
            " weather_ct            22\n",
            "nas_ct                 22\n",
            "security_ct            22\n",
            "late_aircraft_ct       22\n",
            "arr_cancelled          22\n",
            "arr_diverted           22\n",
            " arr_delay             22\n",
            " carrier_delay         22\n",
            "weather_delay          22\n",
            "nas_delay              22\n",
            "security_delay         22\n",
            "late_aircraft_delay    22\n",
            "dtype: int64\n"
          ]
        }
      ],
      "source": [
        "print(aa_otp.isna().sum())\n",
        "print(alaska_otp.isna().sum())\n",
        "print(delta_otp.isna().sum())\n",
        "print(sw_otp.isna().sum())\n",
        "print(united_otp.isna().sum())"
      ]
    },
    {
      "cell_type": "code",
      "execution_count": 6,
      "id": "5b25a1e2",
      "metadata": {
        "id": "5b25a1e2"
      },
      "outputs": [],
      "source": [
        "def rmvSpaceFromCol(df):\n",
        "    newCol = []\n",
        "    cols = df.columns\n",
        "    for col in cols:\n",
        "        newCol.append(re.sub(r'\\s+','',col))\n",
        "    df.columns = newCol"
      ]
    },
    {
      "cell_type": "code",
      "execution_count": 7,
      "id": "a6c5b4d6",
      "metadata": {
        "id": "a6c5b4d6"
      },
      "outputs": [],
      "source": [
        "rmvSpaceFromCol(aa_otp)\n",
        "rmvSpaceFromCol(alaska_otp)\n",
        "rmvSpaceFromCol(delta_otp)\n",
        "rmvSpaceFromCol(sw_otp)\n",
        "rmvSpaceFromCol(united_otp)"
      ]
    },
    {
      "cell_type": "code",
      "execution_count": 8,
      "id": "ae75691c",
      "metadata": {
        "colab": {
          "base_uri": "https://localhost:8080/",
          "height": 315
        },
        "id": "ae75691c",
        "outputId": "786ede98-9829-44e8-ff9b-4f2b8d397ee2"
      },
      "outputs": [
        {
          "output_type": "execute_result",
          "data": {
            "text/html": [
              "\n",
              "  <div id=\"df-5df15ac3-ad45-48f6-9962-35674309ab1e\">\n",
              "    <div class=\"colab-df-container\">\n",
              "      <div>\n",
              "<style scoped>\n",
              "    .dataframe tbody tr th:only-of-type {\n",
              "        vertical-align: middle;\n",
              "    }\n",
              "\n",
              "    .dataframe tbody tr th {\n",
              "        vertical-align: top;\n",
              "    }\n",
              "\n",
              "    .dataframe thead th {\n",
              "        text-align: right;\n",
              "    }\n",
              "</style>\n",
              "<table border=\"1\" class=\"dataframe\">\n",
              "  <thead>\n",
              "    <tr style=\"text-align: right;\">\n",
              "      <th></th>\n",
              "      <th>year</th>\n",
              "      <th>month</th>\n",
              "      <th>carrier</th>\n",
              "      <th>carrier_name</th>\n",
              "      <th>airport</th>\n",
              "      <th>airport_name</th>\n",
              "      <th>arr_flights</th>\n",
              "      <th>arr_del15</th>\n",
              "      <th>carrier_ct</th>\n",
              "      <th>weather_ct</th>\n",
              "      <th>nas_ct</th>\n",
              "      <th>security_ct</th>\n",
              "      <th>late_aircraft_ct</th>\n",
              "      <th>arr_cancelled</th>\n",
              "      <th>arr_diverted</th>\n",
              "      <th>arr_delay</th>\n",
              "      <th>carrier_delay</th>\n",
              "      <th>weather_delay</th>\n",
              "      <th>nas_delay</th>\n",
              "      <th>security_delay</th>\n",
              "      <th>late_aircraft_delay</th>\n",
              "    </tr>\n",
              "  </thead>\n",
              "  <tbody>\n",
              "    <tr>\n",
              "      <th>0</th>\n",
              "      <td>2003</td>\n",
              "      <td>7</td>\n",
              "      <td>AA</td>\n",
              "      <td>American Airlines Inc.</td>\n",
              "      <td>ABQ</td>\n",
              "      <td>Albuquerque, NM: Albuquerque International Sun...</td>\n",
              "      <td>326.0</td>\n",
              "      <td>83.0</td>\n",
              "      <td>34.50</td>\n",
              "      <td>7.97</td>\n",
              "      <td>18.45</td>\n",
              "      <td>0.0</td>\n",
              "      <td>22.07</td>\n",
              "      <td>1.0</td>\n",
              "      <td>0.0</td>\n",
              "      <td>4329.0</td>\n",
              "      <td>1625.0</td>\n",
              "      <td>458.0</td>\n",
              "      <td>719.0</td>\n",
              "      <td>0.0</td>\n",
              "      <td>1527.0</td>\n",
              "    </tr>\n",
              "    <tr>\n",
              "      <th>1</th>\n",
              "      <td>2003</td>\n",
              "      <td>7</td>\n",
              "      <td>AA</td>\n",
              "      <td>American Airlines Inc.</td>\n",
              "      <td>ANC</td>\n",
              "      <td>Anchorage, AK: Ted Stevens Anchorage Internati...</td>\n",
              "      <td>93.0</td>\n",
              "      <td>34.0</td>\n",
              "      <td>11.73</td>\n",
              "      <td>0.83</td>\n",
              "      <td>14.57</td>\n",
              "      <td>0.0</td>\n",
              "      <td>6.87</td>\n",
              "      <td>0.0</td>\n",
              "      <td>2.0</td>\n",
              "      <td>1911.0</td>\n",
              "      <td>711.0</td>\n",
              "      <td>118.0</td>\n",
              "      <td>651.0</td>\n",
              "      <td>0.0</td>\n",
              "      <td>431.0</td>\n",
              "    </tr>\n",
              "  </tbody>\n",
              "</table>\n",
              "</div>\n",
              "      <button class=\"colab-df-convert\" onclick=\"convertToInteractive('df-5df15ac3-ad45-48f6-9962-35674309ab1e')\"\n",
              "              title=\"Convert this dataframe to an interactive table.\"\n",
              "              style=\"display:none;\">\n",
              "        \n",
              "  <svg xmlns=\"http://www.w3.org/2000/svg\" height=\"24px\"viewBox=\"0 0 24 24\"\n",
              "       width=\"24px\">\n",
              "    <path d=\"M0 0h24v24H0V0z\" fill=\"none\"/>\n",
              "    <path d=\"M18.56 5.44l.94 2.06.94-2.06 2.06-.94-2.06-.94-.94-2.06-.94 2.06-2.06.94zm-11 1L8.5 8.5l.94-2.06 2.06-.94-2.06-.94L8.5 2.5l-.94 2.06-2.06.94zm10 10l.94 2.06.94-2.06 2.06-.94-2.06-.94-.94-2.06-.94 2.06-2.06.94z\"/><path d=\"M17.41 7.96l-1.37-1.37c-.4-.4-.92-.59-1.43-.59-.52 0-1.04.2-1.43.59L10.3 9.45l-7.72 7.72c-.78.78-.78 2.05 0 2.83L4 21.41c.39.39.9.59 1.41.59.51 0 1.02-.2 1.41-.59l7.78-7.78 2.81-2.81c.8-.78.8-2.07 0-2.86zM5.41 20L4 18.59l7.72-7.72 1.47 1.35L5.41 20z\"/>\n",
              "  </svg>\n",
              "      </button>\n",
              "      \n",
              "  <style>\n",
              "    .colab-df-container {\n",
              "      display:flex;\n",
              "      flex-wrap:wrap;\n",
              "      gap: 12px;\n",
              "    }\n",
              "\n",
              "    .colab-df-convert {\n",
              "      background-color: #E8F0FE;\n",
              "      border: none;\n",
              "      border-radius: 50%;\n",
              "      cursor: pointer;\n",
              "      display: none;\n",
              "      fill: #1967D2;\n",
              "      height: 32px;\n",
              "      padding: 0 0 0 0;\n",
              "      width: 32px;\n",
              "    }\n",
              "\n",
              "    .colab-df-convert:hover {\n",
              "      background-color: #E2EBFA;\n",
              "      box-shadow: 0px 1px 2px rgba(60, 64, 67, 0.3), 0px 1px 3px 1px rgba(60, 64, 67, 0.15);\n",
              "      fill: #174EA6;\n",
              "    }\n",
              "\n",
              "    [theme=dark] .colab-df-convert {\n",
              "      background-color: #3B4455;\n",
              "      fill: #D2E3FC;\n",
              "    }\n",
              "\n",
              "    [theme=dark] .colab-df-convert:hover {\n",
              "      background-color: #434B5C;\n",
              "      box-shadow: 0px 1px 3px 1px rgba(0, 0, 0, 0.15);\n",
              "      filter: drop-shadow(0px 1px 2px rgba(0, 0, 0, 0.3));\n",
              "      fill: #FFFFFF;\n",
              "    }\n",
              "  </style>\n",
              "\n",
              "      <script>\n",
              "        const buttonEl =\n",
              "          document.querySelector('#df-5df15ac3-ad45-48f6-9962-35674309ab1e button.colab-df-convert');\n",
              "        buttonEl.style.display =\n",
              "          google.colab.kernel.accessAllowed ? 'block' : 'none';\n",
              "\n",
              "        async function convertToInteractive(key) {\n",
              "          const element = document.querySelector('#df-5df15ac3-ad45-48f6-9962-35674309ab1e');\n",
              "          const dataTable =\n",
              "            await google.colab.kernel.invokeFunction('convertToInteractive',\n",
              "                                                     [key], {});\n",
              "          if (!dataTable) return;\n",
              "\n",
              "          const docLinkHtml = 'Like what you see? Visit the ' +\n",
              "            '<a target=\"_blank\" href=https://colab.research.google.com/notebooks/data_table.ipynb>data table notebook</a>'\n",
              "            + ' to learn more about interactive tables.';\n",
              "          element.innerHTML = '';\n",
              "          dataTable['output_type'] = 'display_data';\n",
              "          await google.colab.output.renderOutput(dataTable, element);\n",
              "          const docLink = document.createElement('div');\n",
              "          docLink.innerHTML = docLinkHtml;\n",
              "          element.appendChild(docLink);\n",
              "        }\n",
              "      </script>\n",
              "    </div>\n",
              "  </div>\n",
              "  "
            ],
            "text/plain": [
              "   year  month carrier  ... nas_delay security_delay late_aircraft_delay\n",
              "0  2003      7      AA  ...     719.0            0.0              1527.0\n",
              "1  2003      7      AA  ...     651.0            0.0               431.0\n",
              "\n",
              "[2 rows x 21 columns]"
            ]
          },
          "metadata": {},
          "execution_count": 8
        }
      ],
      "source": [
        "aa_otp.head(2)"
      ]
    },
    {
      "cell_type": "code",
      "execution_count": 9,
      "id": "506c9d92",
      "metadata": {
        "id": "506c9d92"
      },
      "outputs": [],
      "source": [
        "aa_otp.drop(columns = ['month', 'carrier', 'carrier_name', 'airport', 'airport_name', 'carrier_ct', 'weather_ct', 'nas_ct', 'security_ct', 'late_aircraft_ct', 'arr_cancelled', 'arr_diverted', 'arr_delay', 'carrier_delay', 'weather_delay', 'nas_delay', 'security_delay', 'late_aircraft_delay'], inplace=True)\n",
        "alaska_otp.drop(columns = ['month', 'carrier', 'carrier_name', 'airport', 'airport_name', 'carrier_ct', 'weather_ct', 'nas_ct', 'security_ct', 'late_aircraft_ct', 'arr_cancelled', 'arr_diverted', 'arr_delay', 'carrier_delay', 'weather_delay', 'nas_delay', 'security_delay', 'late_aircraft_delay'], inplace=True)\n",
        "delta_otp.drop(columns = ['month', 'carrier', 'carrier_name', 'airport', 'airport_name', 'carrier_ct', 'weather_ct', 'nas_ct', 'security_ct', 'late_aircraft_ct', 'arr_cancelled', 'arr_diverted', 'arr_delay', 'carrier_delay', 'weather_delay', 'nas_delay', 'security_delay', 'late_aircraft_delay'], inplace=True)\n",
        "sw_otp.drop(columns = ['month', 'carrier', 'carrier_name', 'airport', 'airport_name', 'carrier_ct', 'weather_ct', 'nas_ct', 'security_ct', 'late_aircraft_ct', 'arr_cancelled', 'arr_diverted', 'arr_delay', 'carrier_delay', 'weather_delay', 'nas_delay', 'security_delay', 'late_aircraft_delay'], inplace=True)\n",
        "united_otp.drop(columns = ['month', 'carrier', 'carrier_name', 'airport', 'airport_name', 'carrier_ct', 'weather_ct', 'nas_ct', 'security_ct', 'late_aircraft_ct', 'arr_cancelled', 'arr_diverted', 'arr_delay', 'carrier_delay', 'weather_delay', 'nas_delay', 'security_delay', 'late_aircraft_delay'], inplace=True)"
      ]
    },
    {
      "cell_type": "code",
      "execution_count": 10,
      "id": "7e0fea1d",
      "metadata": {
        "id": "7e0fea1d"
      },
      "outputs": [],
      "source": [
        "%%capture\n",
        "aa_otp.fillna(aa_otp.mean(), inplace=True)\n",
        "alaska_otp.fillna(alaska_otp.mean(), inplace=True)\n",
        "delta_otp.fillna(delta_otp.mean(), inplace=True)\n",
        "united_otp.fillna(united_otp.mean(), inplace=True)"
      ]
    },
    {
      "cell_type": "code",
      "execution_count": 11,
      "id": "788cac15",
      "metadata": {
        "id": "788cac15"
      },
      "outputs": [],
      "source": [
        "aa_otp = aa_otp.groupby('year').sum()\n",
        "alaska_otp = alaska_otp.groupby('year').sum()\n",
        "delta_otp = delta_otp.groupby('year').sum()\n",
        "sw_otp = sw_otp.groupby('year').sum()\n",
        "united_otp = united_otp.groupby('year').sum()"
      ]
    },
    {
      "cell_type": "code",
      "execution_count": 12,
      "id": "19bd790e",
      "metadata": {
        "id": "19bd790e"
      },
      "outputs": [],
      "source": [
        "aa_otp['airline'] = \"aa\"\n",
        "alaska_otp['airline'] = \"alaska\"\n",
        "delta_otp['airline'] = \"delta\"\n",
        "sw_otp['airline'] = \"sw\"\n",
        "united_otp['airline'] = \"united\""
      ]
    },
    {
      "cell_type": "code",
      "execution_count": 13,
      "id": "6e71f15b",
      "metadata": {
        "id": "6e71f15b"
      },
      "outputs": [],
      "source": [
        "otp = pd.concat([aa_otp, alaska_otp, delta_otp, sw_otp, united_otp])\n",
        "otp['pc_delay'] = otp['arr_del15'] / otp['arr_flights'] * 100\n",
        "pc_delay = otp['pc_delay']\n",
        "otp = otp.drop(columns=['pc_delay'])\n",
        "otp.insert(loc=2, column='pc_delay', value = pc_delay)\n",
        "otp.reset_index(inplace=True)"
      ]
    },
    {
      "cell_type": "code",
      "execution_count": 14,
      "id": "b1baeb98",
      "metadata": {
        "id": "b1baeb98"
      },
      "outputs": [],
      "source": [
        "otp = otp[(otp['year'] >= 2006) & (otp['year'] <= 2020)]"
      ]
    },
    {
      "cell_type": "code",
      "source": [
        ""
      ],
      "metadata": {
        "id": "bEvA6svdQaFd"
      },
      "id": "bEvA6svdQaFd",
      "execution_count": 14,
      "outputs": []
    }
  ],
  "metadata": {
    "kernelspec": {
      "display_name": "Python 3 (ipykernel)",
      "language": "python",
      "name": "python3"
    },
    "language_info": {
      "codemirror_mode": {
        "name": "ipython",
        "version": 3
      },
      "file_extension": ".py",
      "mimetype": "text/x-python",
      "name": "python",
      "nbconvert_exporter": "python",
      "pygments_lexer": "ipython3",
      "version": "3.9.7"
    },
    "colab": {
      "name": "Airline.ipynb",
      "provenance": []
    }
  },
  "nbformat": 4,
  "nbformat_minor": 5
}